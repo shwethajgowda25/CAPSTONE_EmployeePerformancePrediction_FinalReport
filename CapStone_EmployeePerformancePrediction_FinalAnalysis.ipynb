{
 "cells": [
  {
   "cell_type": "code",
   "execution_count": 1,
   "id": "bc1b0adb-e763-4403-8ae2-18caed6a4f74",
   "metadata": {
    "execution": {
     "iopub.execute_input": "2025-10-16T04:18:08.390500Z",
     "iopub.status.busy": "2025-10-16T04:18:08.390261Z",
     "iopub.status.idle": "2025-10-16T04:18:09.814622Z",
     "shell.execute_reply": "2025-10-16T04:18:09.813776Z",
     "shell.execute_reply.started": "2025-10-16T04:18:08.390481Z"
    }
   },
   "outputs": [],
   "source": [
    "import pandas as pd\n",
    "import numpy as np\n",
    "import matplotlib.pyplot as plt\n",
    "import seaborn as sns\n",
    "from sklearn.model_selection import train_test_split\n",
    "from sklearn.preprocessing import StandardScaler, LabelEncoder\n",
    "from sklearn.ensemble import RandomForestClassifier, GradientBoostingClassifier\n",
    "from sklearn.svm import SVC\n",
    "from sklearn.metrics import accuracy_score, classification_report, confusion_matrix\n",
    "import warnings\n",
    "warnings.filterwarnings('ignore')"
   ]
  },
  {
   "cell_type": "code",
   "execution_count": 2,
   "id": "184aeadf-251f-47a0-a21e-c29fcdeb8bed",
   "metadata": {
    "execution": {
     "iopub.execute_input": "2025-10-16T04:18:09.816333Z",
     "iopub.status.busy": "2025-10-16T04:18:09.815929Z",
     "iopub.status.idle": "2025-10-16T04:18:09.819804Z",
     "shell.execute_reply": "2025-10-16T04:18:09.818914Z",
     "shell.execute_reply.started": "2025-10-16T04:18:09.816313Z"
    }
   },
   "outputs": [
    {
     "name": "stdout",
     "output_type": "stream",
     "text": [
      "--- 1. Data Loading and Initial Preprocessing ---\n"
     ]
    }
   ],
   "source": [
    "# --- 1. Data Loading and Initial Preprocessing ---\n",
    "print(\"--- 1. Data Loading and Initial Preprocessing ---\")"
   ]
  },
  {
   "cell_type": "code",
   "execution_count": 3,
   "id": "b379c608-514b-4553-b660-30143b8d04b3",
   "metadata": {
    "execution": {
     "iopub.execute_input": "2025-10-16T04:18:09.820922Z",
     "iopub.status.busy": "2025-10-16T04:18:09.820677Z",
     "iopub.status.idle": "2025-10-16T04:18:09.854508Z",
     "shell.execute_reply": "2025-10-16T04:18:09.853623Z",
     "shell.execute_reply.started": "2025-10-16T04:18:09.820903Z"
    }
   },
   "outputs": [
    {
     "name": "stdout",
     "output_type": "stream",
     "text": [
      "Dataset loaded successfully.\n"
     ]
    }
   ],
   "source": [
    "# Load the dataset\n",
    "try:\n",
    "    df = pd.read_csv('./Employee_Performance_DataSet.csv')\n",
    "    print(\"Dataset loaded successfully.\")\n",
    "except FileNotFoundError:\n",
    "    print(\"Error: The CSV file was not found at './Employee_Performance_DataSet.csv'\")\n",
    "    # Create an empty DataFrame structure for demonstration if file fails to load\n",
    "    df = pd.DataFrame()"
   ]
  },
  {
   "cell_type": "code",
   "execution_count": 4,
   "id": "70862541-826d-46d6-ad73-0afb555b3e94",
   "metadata": {
    "execution": {
     "iopub.execute_input": "2025-10-16T04:18:09.857414Z",
     "iopub.status.busy": "2025-10-16T04:18:09.856928Z",
     "iopub.status.idle": "2025-10-16T04:18:09.866047Z",
     "shell.execute_reply": "2025-10-16T04:18:09.865072Z",
     "shell.execute_reply.started": "2025-10-16T04:18:09.857388Z"
    }
   },
   "outputs": [],
   "source": [
    "# Drop the unique identifier column\n",
    "if not df.empty:\n",
    "    df = df.drop('EmpNumber', axis=1)"
   ]
  },
  {
   "cell_type": "code",
   "execution_count": 5,
   "id": "4f7464ae-dd1a-4931-aa81-a205c2bdaed5",
   "metadata": {
    "execution": {
     "iopub.execute_input": "2025-10-16T04:18:09.867399Z",
     "iopub.status.busy": "2025-10-16T04:18:09.867147Z",
     "iopub.status.idle": "2025-10-16T04:18:09.888745Z",
     "shell.execute_reply": "2025-10-16T04:18:09.888024Z",
     "shell.execute_reply.started": "2025-10-16T04:18:09.867377Z"
    }
   },
   "outputs": [],
   "source": [
    "# Separate features (X) and target (y)\n",
    "X = df.drop('PerformanceRating', axis=1)\n",
    "y = df['PerformanceRating']"
   ]
  },
  {
   "cell_type": "code",
   "execution_count": 6,
   "id": "d625ed14-e1af-419a-b544-879ea9f86156",
   "metadata": {
    "execution": {
     "iopub.execute_input": "2025-10-16T04:18:09.890206Z",
     "iopub.status.busy": "2025-10-16T04:18:09.889685Z",
     "iopub.status.idle": "2025-10-16T04:18:09.918228Z",
     "shell.execute_reply": "2025-10-16T04:18:09.917553Z",
     "shell.execute_reply.started": "2025-10-16T04:18:09.890186Z"
    }
   },
   "outputs": [
    {
     "name": "stdout",
     "output_type": "stream",
     "text": [
      "Features encoded. Total features after encoding: 53\n"
     ]
    }
   ],
   "source": [
    "# --- 2. Feature Engineering and Scaling ---\n",
    "\n",
    "# Identify categorical columns for One-Hot Encoding\n",
    "categorical_cols = X.select_dtypes(include='object').columns\n",
    "X = pd.get_dummies(X, columns=categorical_cols, drop_first=True)\n",
    "print(f\"Features encoded. Total features after encoding: {X.shape[1]}\")"
   ]
  },
  {
   "cell_type": "code",
   "execution_count": 7,
   "id": "7939798e-e78c-42aa-a95b-89a0615abca6",
   "metadata": {
    "execution": {
     "iopub.execute_input": "2025-10-16T04:18:09.919365Z",
     "iopub.status.busy": "2025-10-16T04:18:09.919068Z",
     "iopub.status.idle": "2025-10-16T04:18:09.935099Z",
     "shell.execute_reply": "2025-10-16T04:18:09.934544Z",
     "shell.execute_reply.started": "2025-10-16T04:18:09.919346Z"
    }
   },
   "outputs": [],
   "source": [
    "# Split the data into training and testing sets\n",
    "# Using stratify=y to ensure the class distribution in y is maintained in both train and test sets\n",
    "X_train, X_test, y_train, y_test = train_test_split(X, y, test_size=0.3, random_state=42, stratify=y)"
   ]
  },
  {
   "cell_type": "code",
   "execution_count": 8,
   "id": "5cc24862-ae8f-4696-86f2-34dd4923fd2d",
   "metadata": {
    "execution": {
     "iopub.execute_input": "2025-10-16T04:18:09.936617Z",
     "iopub.status.busy": "2025-10-16T04:18:09.936341Z",
     "iopub.status.idle": "2025-10-16T04:18:09.959941Z",
     "shell.execute_reply": "2025-10-16T04:18:09.959277Z",
     "shell.execute_reply.started": "2025-10-16T04:18:09.936597Z"
    }
   },
   "outputs": [
    {
     "name": "stdout",
     "output_type": "stream",
     "text": [
      "Numerical features standardized.\n"
     ]
    }
   ],
   "source": [
    "# Apply standard scaling to numerical features (critical for SVM)\n",
    "scaler = StandardScaler()\n",
    "X_train_scaled = scaler.fit_transform(X_train)\n",
    "X_test_scaled = scaler.transform(X_test)\n",
    "print(\"Numerical features standardized.\")"
   ]
  },
  {
   "cell_type": "code",
   "execution_count": 9,
   "id": "66b5e250-7404-4383-b0af-c4bfff6a043d",
   "metadata": {
    "execution": {
     "iopub.execute_input": "2025-10-16T04:18:09.961047Z",
     "iopub.status.busy": "2025-10-16T04:18:09.960781Z",
     "iopub.status.idle": "2025-10-16T04:18:09.976844Z",
     "shell.execute_reply": "2025-10-16T04:18:09.976166Z",
     "shell.execute_reply.started": "2025-10-16T04:18:09.961028Z"
    }
   },
   "outputs": [
    {
     "name": "stdout",
     "output_type": "stream",
     "text": [
      "\n",
      "--- 3. Model Training and Prediction ---\n"
     ]
    }
   ],
   "source": [
    "# --- 3. Model Training and Prediction ---\n",
    "print(\"\\n--- 3. Model Training and Prediction ---\")"
   ]
  },
  {
   "cell_type": "code",
   "execution_count": 10,
   "id": "fb14747f-2c09-43d6-9e86-d7f265f5d808",
   "metadata": {
    "execution": {
     "iopub.execute_input": "2025-10-16T04:18:09.978023Z",
     "iopub.status.busy": "2025-10-16T04:18:09.977621Z",
     "iopub.status.idle": "2025-10-16T04:18:10.000339Z",
     "shell.execute_reply": "2025-10-16T04:18:09.999682Z",
     "shell.execute_reply.started": "2025-10-16T04:18:09.978004Z"
    }
   },
   "outputs": [],
   "source": [
    "# Define the models. Note: SVM requires scaled data.\n",
    "models = {\n",
    "    \"Random Forest\": RandomForestClassifier(random_state=42, n_estimators=100),\n",
    "    \"Gradient Boosting\": GradientBoostingClassifier(random_state=42, n_estimators=100),\n",
    "    \"Support Vector Machine (SVM)\": SVC(random_state=42)\n",
    "}"
   ]
  },
  {
   "cell_type": "code",
   "execution_count": 11,
   "id": "1c8ed561-2937-4fdc-abb4-63a091c54812",
   "metadata": {
    "execution": {
     "iopub.execute_input": "2025-10-16T04:18:10.001478Z",
     "iopub.status.busy": "2025-10-16T04:18:10.001209Z",
     "iopub.status.idle": "2025-10-16T04:18:11.131738Z",
     "shell.execute_reply": "2025-10-16T04:18:11.130922Z",
     "shell.execute_reply.started": "2025-10-16T04:18:10.001460Z"
    }
   },
   "outputs": [
    {
     "name": "stdout",
     "output_type": "stream",
     "text": [
      "\n",
      "Training Random Forest...\n",
      "\n",
      "Training Gradient Boosting...\n",
      "\n",
      "Training Support Vector Machine (SVM)...\n"
     ]
    }
   ],
   "source": [
    "results = {}\n",
    "reports = {}\n",
    "\n",
    "for name, model in models.items():\n",
    "    # Use scaled data for SVM, and unscaled (or scaled) for tree-based models\n",
    "    if name == \"Support Vector Machine (SVM)\":\n",
    "        X_train_data = X_train_scaled\n",
    "        X_test_data = X_test_scaled\n",
    "    else:\n",
    "        # Tree-based models are generally scale-invariant, but we'll use unscaled for this demo\n",
    "        X_train_data = X_train\n",
    "        X_test_data = X_test\n",
    "        \n",
    "    print(f\"\\nTraining {name}...\")\n",
    "    model.fit(X_train_data, y_train)"
   ]
  },
  {
   "cell_type": "code",
   "execution_count": 12,
   "id": "872b0ed3-fe5a-41bc-bb4c-7426ce573e84",
   "metadata": {
    "execution": {
     "iopub.execute_input": "2025-10-16T04:18:11.133183Z",
     "iopub.status.busy": "2025-10-16T04:18:11.132886Z",
     "iopub.status.idle": "2025-10-16T04:18:11.156111Z",
     "shell.execute_reply": "2025-10-16T04:18:11.155577Z",
     "shell.execute_reply.started": "2025-10-16T04:18:11.133164Z"
    }
   },
   "outputs": [],
   "source": [
    "# Predict on the test set\n",
    "y_pred = model.predict(X_test_data)"
   ]
  },
  {
   "cell_type": "code",
   "execution_count": 13,
   "id": "21beb99e-dc83-45f4-9f90-268680df861e",
   "metadata": {
    "execution": {
     "iopub.execute_input": "2025-10-16T04:18:11.159647Z",
     "iopub.status.busy": "2025-10-16T04:18:11.159375Z",
     "iopub.status.idle": "2025-10-16T04:18:11.173190Z",
     "shell.execute_reply": "2025-10-16T04:18:11.172571Z",
     "shell.execute_reply.started": "2025-10-16T04:18:11.159628Z"
    }
   },
   "outputs": [],
   "source": [
    "# --- 4. Model Evaluation and Performance Metrics ---\n",
    "accuracy = accuracy_score(y_test, y_pred)\n",
    "report = classification_report(y_test, y_pred, digits=4)\n",
    "cm = confusion_matrix(y_test, y_pred)"
   ]
  },
  {
   "cell_type": "code",
   "execution_count": 14,
   "id": "193dd357-98e7-467f-951d-bb6865fab591",
   "metadata": {
    "execution": {
     "iopub.execute_input": "2025-10-16T04:18:11.174663Z",
     "iopub.status.busy": "2025-10-16T04:18:11.174155Z",
     "iopub.status.idle": "2025-10-16T04:18:11.187575Z",
     "shell.execute_reply": "2025-10-16T04:18:11.187047Z",
     "shell.execute_reply.started": "2025-10-16T04:18:11.174641Z"
    }
   },
   "outputs": [],
   "source": [
    "# Store results\n",
    "results[name] = accuracy\n",
    "reports[name] = report"
   ]
  },
  {
   "cell_type": "code",
   "execution_count": 15,
   "id": "dc93a1ad-e63f-442d-b491-98ce46ced75a",
   "metadata": {
    "execution": {
     "iopub.execute_input": "2025-10-16T04:18:11.189125Z",
     "iopub.status.busy": "2025-10-16T04:18:11.188638Z",
     "iopub.status.idle": "2025-10-16T04:18:11.212475Z",
     "shell.execute_reply": "2025-10-16T04:18:11.211794Z",
     "shell.execute_reply.started": "2025-10-16T04:18:11.189106Z"
    }
   },
   "outputs": [
    {
     "name": "stdout",
     "output_type": "stream",
     "text": [
      "\n",
      "--- Support Vector Machine (SVM) Evaluation ---\n",
      "Accuracy: 0.7778\n",
      "\n",
      "Classification Report:\n",
      "              precision    recall  f1-score   support\n",
      "\n",
      "           2     0.9333    0.2414    0.3836        58\n",
      "           3     0.7676    0.9962    0.8671       262\n",
      "           4     1.0000    0.1250    0.2222        40\n",
      "\n",
      "    accuracy                         0.7778       360\n",
      "   macro avg     0.9003    0.4542    0.4910       360\n",
      "weighted avg     0.8202    0.7778    0.7176       360\n",
      "\n"
     ]
    }
   ],
   "source": [
    "# Print detailed report\n",
    "print(f\"\\n--- {name} Evaluation ---\")\n",
    "print(f\"Accuracy: {accuracy:.4f}\")\n",
    "print(\"\\nClassification Report:\")\n",
    "print(report)"
   ]
  },
  {
   "cell_type": "code",
   "execution_count": 16,
   "id": "34e6a406-a143-45d7-910d-9b2a24514538",
   "metadata": {
    "execution": {
     "iopub.execute_input": "2025-10-16T04:18:11.213587Z",
     "iopub.status.busy": "2025-10-16T04:18:11.213341Z",
     "iopub.status.idle": "2025-10-16T04:18:11.409603Z",
     "shell.execute_reply": "2025-10-16T04:18:11.408888Z",
     "shell.execute_reply.started": "2025-10-16T04:18:11.213569Z"
    }
   },
   "outputs": [
    {
     "name": "stdout",
     "output_type": "stream",
     "text": [
      "Confusion Matrix visualization saved for Support Vector Machine (SVM).\n"
     ]
    }
   ],
   "source": [
    "# Visualization of Confusion Matrix for each model\n",
    "plt.figure(figsize=(6, 5))\n",
    "sns.heatmap(cm, annot=True, fmt='d', cmap='Blues', \n",
    "            xticklabels=model.classes_, yticklabels=model.classes_)\n",
    "plt.title(f'Confusion Matrix for {name}')\n",
    "plt.ylabel('True Label')\n",
    "plt.xlabel('Predicted Label')\n",
    "plt.savefig(f'confusion_matrix_{name.replace(\" \", \"_\")}.png')\n",
    "plt.close() # Close plot to avoid showing it inline\n",
    "print(f\"Confusion Matrix visualization saved for {name}.\")"
   ]
  },
  {
   "cell_type": "code",
   "execution_count": 17,
   "id": "523872c2-bfd2-4f40-b4f2-36eaf4454724",
   "metadata": {
    "execution": {
     "iopub.execute_input": "2025-10-16T04:18:11.410786Z",
     "iopub.status.busy": "2025-10-16T04:18:11.410490Z",
     "iopub.status.idle": "2025-10-16T04:18:11.414345Z",
     "shell.execute_reply": "2025-10-16T04:18:11.413708Z",
     "shell.execute_reply.started": "2025-10-16T04:18:11.410766Z"
    }
   },
   "outputs": [
    {
     "name": "stdout",
     "output_type": "stream",
     "text": [
      "\n",
      "--- 5. Comparison Visualization (Accuracy Score) ---\n"
     ]
    }
   ],
   "source": [
    "# --- 5. Comparison Visualization ---\n",
    "print(\"\\n--- 5. Comparison Visualization (Accuracy Score) ---\")"
   ]
  },
  {
   "cell_type": "code",
   "execution_count": 18,
   "id": "d72b1574-7d8a-4342-8efe-ae842dcb807b",
   "metadata": {
    "execution": {
     "iopub.execute_input": "2025-10-16T04:18:11.416038Z",
     "iopub.status.busy": "2025-10-16T04:18:11.415303Z",
     "iopub.status.idle": "2025-10-16T04:18:11.437120Z",
     "shell.execute_reply": "2025-10-16T04:18:11.436420Z",
     "shell.execute_reply.started": "2025-10-16T04:18:11.416008Z"
    }
   },
   "outputs": [],
   "source": [
    "# Create a DataFrame for comparison\n",
    "performance_df = pd.DataFrame(list(results.items()), columns=['Model', 'Accuracy'])\n",
    "performance_df = performance_df.sort_values(by='Accuracy', ascending=False)"
   ]
  },
  {
   "cell_type": "code",
   "execution_count": 19,
   "id": "1057aa52-4e64-4ceb-9064-b6e58027407f",
   "metadata": {
    "execution": {
     "iopub.execute_input": "2025-10-16T04:18:11.438362Z",
     "iopub.status.busy": "2025-10-16T04:18:11.438078Z",
     "iopub.status.idle": "2025-10-16T04:18:11.735137Z",
     "shell.execute_reply": "2025-10-16T04:18:11.734498Z",
     "shell.execute_reply.started": "2025-10-16T04:18:11.438341Z"
    }
   },
   "outputs": [
    {
     "name": "stdout",
     "output_type": "stream",
     "text": [
      "Final model comparison visualization saved as 'model_comparison_accuracy_final.png'\n"
     ]
    },
    {
     "data": {
      "image/png": "[encoded data removed]",
      "text/plain": [
       "<Figure size 1000x600 with 1 Axes>"
      ]
     },
     "metadata": {},
     "output_type": "display_data"
    }
   ],
   "source": [
    "# Generate the visualization\n",
    "plt.figure(figsize=(10, 6))\n",
    "sns.barplot(x='Model', y='Accuracy', data=performance_df, palette='Spectral')\n",
    "plt.title('Model Performance Comparison (Accuracy Score)')\n",
    "plt.ylabel('Accuracy')\n",
    "plt.ylim(min(performance_df['Accuracy']) * 0.95, 1.0)\n",
    "for index, row in performance_df.iterrows():\n",
    "    plt.text(row.name, row.Accuracy, f'{row.Accuracy:.4f}', color='black', ha=\"center\", va=\"bottom\")\n",
    "\n",
    "plt.xticks(rotation=15)\n",
    "plt.tight_layout()\n",
    "plt.savefig('model_comparison_accuracy_final.png')\n",
    "print(\"Final model comparison visualization saved as 'model_comparison_accuracy_final.png'\")"
   ]
  },
  {
   "cell_type": "code",
   "execution_count": null,
   "id": "5824d000-3d9c-4ff0-af25-3da4c7eb0a1a",
   "metadata": {},
   "outputs": [],
   "source": []
  }
 ],
 "metadata": {
  "kernelspec": {
   "display_name": "anaconda-2024.02-py310",
   "language": "python",
   "name": "conda-env-anaconda-2024.02-py310-py"
  },
  "language_info": {
   "codemirror_mode": {
    "name": "ipython",
    "version": 3
   },
   "file_extension": ".py",
   "mimetype": "text/x-python",
   "name": "python",
   "nbconvert_exporter": "python",
   "pygments_lexer": "ipython3",
   "version": "3.10.14"
  }
 },
 "nbformat": 4,
 "nbformat_minor": 5
}
